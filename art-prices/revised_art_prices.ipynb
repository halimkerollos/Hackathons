{
 "cells": [
  {
   "cell_type": "code",
   "execution_count": 1,
   "metadata": {},
   "outputs": [],
   "source": [
    "import numpy as np, pandas as pd, matplotlib.pyplot as plt, seaborn as sns\n",
    "%matplotlib inline"
   ]
  },
  {
   "cell_type": "code",
   "execution_count": 2,
   "metadata": {},
   "outputs": [],
   "source": [
    "from sklearn.model_selection import train_test_split\n",
    "from sklearn.linear_model import LinearRegression\n",
    "from sklearn import metrics"
   ]
  },
  {
   "cell_type": "code",
   "execution_count": 4,
   "metadata": {},
   "outputs": [],
   "source": [
    "train = pd.read_csv('train.csv', index_col= 0)\n",
    "test = pd.read_csv('test.csv', index_col= 0)"
   ]
  },
  {
   "cell_type": "code",
   "execution_count": 36,
   "metadata": {},
   "outputs": [
    {
     "name": "stdout",
     "output_type": "stream",
     "text": [
      "<class 'pandas.core.frame.DataFrame'>\n",
      "Index: 6500 entries, fffe3900350033003300 to fffe3700310031003600\n",
      "Data columns (total 19 columns):\n",
      " #   Column                 Non-Null Count  Dtype  \n",
      "---  ------                 --------------  -----  \n",
      " 0   Artist Name            6500 non-null   object \n",
      " 1   Artist Reputation      6500 non-null   float64\n",
      " 2   Height                 6500 non-null   float64\n",
      " 3   Width                  6500 non-null   float64\n",
      " 4   Weight                 6500 non-null   float64\n",
      " 5   Material               6500 non-null   object \n",
      " 6   Price Of Sculpture     6500 non-null   float64\n",
      " 7   Base Shipping Price    6500 non-null   float64\n",
      " 8   International          6500 non-null   object \n",
      " 9   Express Shipment       6500 non-null   object \n",
      " 10  Installation Included  6500 non-null   object \n",
      " 11  Transport              6500 non-null   object \n",
      " 12  Fragile                6500 non-null   object \n",
      " 13  Customer Information   6500 non-null   object \n",
      " 14  Remote Location        6500 non-null   object \n",
      " 15  Scheduled Date         6500 non-null   object \n",
      " 16  Delivery Date          6500 non-null   object \n",
      " 17  Customer Location      6500 non-null   object \n",
      " 18  Cost                   6500 non-null   float64\n",
      "dtypes: float64(7), object(12)\n",
      "memory usage: 1015.6+ KB\n"
     ]
    },
    {
     "data": {
      "text/html": [
       "<div>\n",
       "<style scoped>\n",
       "    .dataframe tbody tr th:only-of-type {\n",
       "        vertical-align: middle;\n",
       "    }\n",
       "\n",
       "    .dataframe tbody tr th {\n",
       "        vertical-align: top;\n",
       "    }\n",
       "\n",
       "    .dataframe thead th {\n",
       "        text-align: right;\n",
       "    }\n",
       "</style>\n",
       "<table border=\"1\" class=\"dataframe\">\n",
       "  <thead>\n",
       "    <tr style=\"text-align: right;\">\n",
       "      <th></th>\n",
       "      <th>Artist Name</th>\n",
       "      <th>Artist Reputation</th>\n",
       "      <th>Height</th>\n",
       "      <th>Width</th>\n",
       "      <th>Weight</th>\n",
       "      <th>Material</th>\n",
       "      <th>Price Of Sculpture</th>\n",
       "      <th>Base Shipping Price</th>\n",
       "      <th>International</th>\n",
       "      <th>Express Shipment</th>\n",
       "      <th>Installation Included</th>\n",
       "      <th>Transport</th>\n",
       "      <th>Fragile</th>\n",
       "      <th>Customer Information</th>\n",
       "      <th>Remote Location</th>\n",
       "      <th>Scheduled Date</th>\n",
       "      <th>Delivery Date</th>\n",
       "      <th>Customer Location</th>\n",
       "      <th>Cost</th>\n",
       "    </tr>\n",
       "    <tr>\n",
       "      <th>Customer Id</th>\n",
       "      <th></th>\n",
       "      <th></th>\n",
       "      <th></th>\n",
       "      <th></th>\n",
       "      <th></th>\n",
       "      <th></th>\n",
       "      <th></th>\n",
       "      <th></th>\n",
       "      <th></th>\n",
       "      <th></th>\n",
       "      <th></th>\n",
       "      <th></th>\n",
       "      <th></th>\n",
       "      <th></th>\n",
       "      <th></th>\n",
       "      <th></th>\n",
       "      <th></th>\n",
       "      <th></th>\n",
       "      <th></th>\n",
       "    </tr>\n",
       "  </thead>\n",
       "  <tbody>\n",
       "    <tr>\n",
       "      <th>fffe3900350033003300</th>\n",
       "      <td>Billy Jenkins</td>\n",
       "      <td>0.26</td>\n",
       "      <td>17.0</td>\n",
       "      <td>6.0</td>\n",
       "      <td>4128.0</td>\n",
       "      <td>Brass</td>\n",
       "      <td>13.91</td>\n",
       "      <td>16.27</td>\n",
       "      <td>Yes</td>\n",
       "      <td>Yes</td>\n",
       "      <td>No</td>\n",
       "      <td>Airways</td>\n",
       "      <td>No</td>\n",
       "      <td>Working Class</td>\n",
       "      <td>No</td>\n",
       "      <td>06/07/15</td>\n",
       "      <td>06/03/15</td>\n",
       "      <td>New Michelle, OH 50777</td>\n",
       "      <td>-283.29</td>\n",
       "    </tr>\n",
       "    <tr>\n",
       "      <th>fffe3800330031003900</th>\n",
       "      <td>Jean Bryant</td>\n",
       "      <td>0.28</td>\n",
       "      <td>3.0</td>\n",
       "      <td>3.0</td>\n",
       "      <td>61.0</td>\n",
       "      <td>Brass</td>\n",
       "      <td>6.83</td>\n",
       "      <td>15.00</td>\n",
       "      <td>No</td>\n",
       "      <td>No</td>\n",
       "      <td>No</td>\n",
       "      <td>Roadways</td>\n",
       "      <td>No</td>\n",
       "      <td>Working Class</td>\n",
       "      <td>No</td>\n",
       "      <td>03/06/17</td>\n",
       "      <td>03/05/17</td>\n",
       "      <td>New Michaelport, WY 12072</td>\n",
       "      <td>-159.96</td>\n",
       "    </tr>\n",
       "    <tr>\n",
       "      <th>fffe3600370035003100</th>\n",
       "      <td>Laura Miller</td>\n",
       "      <td>0.07</td>\n",
       "      <td>8.0</td>\n",
       "      <td>5.0</td>\n",
       "      <td>237.0</td>\n",
       "      <td>Clay</td>\n",
       "      <td>4.96</td>\n",
       "      <td>21.18</td>\n",
       "      <td>No</td>\n",
       "      <td>No</td>\n",
       "      <td>No</td>\n",
       "      <td>Roadways</td>\n",
       "      <td>Yes</td>\n",
       "      <td>Working Class</td>\n",
       "      <td>Yes</td>\n",
       "      <td>03/09/15</td>\n",
       "      <td>03/08/15</td>\n",
       "      <td>Bowmanshire, WA 19241</td>\n",
       "      <td>-154.29</td>\n",
       "    </tr>\n",
       "    <tr>\n",
       "      <th>fffe350031003300</th>\n",
       "      <td>Robert Chaires</td>\n",
       "      <td>0.12</td>\n",
       "      <td>9.0</td>\n",
       "      <td>10.0</td>\n",
       "      <td>1622.0</td>\n",
       "      <td>Aluminium</td>\n",
       "      <td>5.81</td>\n",
       "      <td>16.31</td>\n",
       "      <td>No</td>\n",
       "      <td>No</td>\n",
       "      <td>No</td>\n",
       "      <td>Roadways</td>\n",
       "      <td>No</td>\n",
       "      <td>Wealthy</td>\n",
       "      <td>Yes</td>\n",
       "      <td>05/24/15</td>\n",
       "      <td>05/20/15</td>\n",
       "      <td>East Robyn, KY 86375</td>\n",
       "      <td>-161.16</td>\n",
       "    </tr>\n",
       "    <tr>\n",
       "      <th>fffe3900320038003400</th>\n",
       "      <td>Rosalyn Krol</td>\n",
       "      <td>0.15</td>\n",
       "      <td>17.0</td>\n",
       "      <td>6.0</td>\n",
       "      <td>324.0</td>\n",
       "      <td>Aluminium</td>\n",
       "      <td>3.18</td>\n",
       "      <td>11.94</td>\n",
       "      <td>Yes</td>\n",
       "      <td>Yes</td>\n",
       "      <td>Yes</td>\n",
       "      <td>Airways</td>\n",
       "      <td>No</td>\n",
       "      <td>Working Class</td>\n",
       "      <td>No</td>\n",
       "      <td>12/18/16</td>\n",
       "      <td>12/14/16</td>\n",
       "      <td>Aprilside, PA 52793</td>\n",
       "      <td>-159.23</td>\n",
       "    </tr>\n",
       "  </tbody>\n",
       "</table>\n",
       "</div>"
      ],
      "text/plain": [
       "                         Artist Name  Artist Reputation  Height  Width  \\\n",
       "Customer Id                                                              \n",
       "fffe3900350033003300   Billy Jenkins               0.26    17.0    6.0   \n",
       "fffe3800330031003900     Jean Bryant               0.28     3.0    3.0   \n",
       "fffe3600370035003100    Laura Miller               0.07     8.0    5.0   \n",
       "fffe350031003300      Robert Chaires               0.12     9.0   10.0   \n",
       "fffe3900320038003400    Rosalyn Krol               0.15    17.0    6.0   \n",
       "\n",
       "                      Weight   Material  Price Of Sculpture  \\\n",
       "Customer Id                                                   \n",
       "fffe3900350033003300  4128.0      Brass               13.91   \n",
       "fffe3800330031003900    61.0      Brass                6.83   \n",
       "fffe3600370035003100   237.0       Clay                4.96   \n",
       "fffe350031003300      1622.0  Aluminium                5.81   \n",
       "fffe3900320038003400   324.0  Aluminium                3.18   \n",
       "\n",
       "                      Base Shipping Price International Express Shipment  \\\n",
       "Customer Id                                                                \n",
       "fffe3900350033003300                16.27           Yes              Yes   \n",
       "fffe3800330031003900                15.00            No               No   \n",
       "fffe3600370035003100                21.18            No               No   \n",
       "fffe350031003300                    16.31            No               No   \n",
       "fffe3900320038003400                11.94           Yes              Yes   \n",
       "\n",
       "                     Installation Included Transport Fragile  \\\n",
       "Customer Id                                                    \n",
       "fffe3900350033003300                    No   Airways      No   \n",
       "fffe3800330031003900                    No  Roadways      No   \n",
       "fffe3600370035003100                    No  Roadways     Yes   \n",
       "fffe350031003300                        No  Roadways      No   \n",
       "fffe3900320038003400                   Yes   Airways      No   \n",
       "\n",
       "                     Customer Information Remote Location Scheduled Date  \\\n",
       "Customer Id                                                                \n",
       "fffe3900350033003300        Working Class              No       06/07/15   \n",
       "fffe3800330031003900        Working Class              No       03/06/17   \n",
       "fffe3600370035003100        Working Class             Yes       03/09/15   \n",
       "fffe350031003300                  Wealthy             Yes       05/24/15   \n",
       "fffe3900320038003400        Working Class              No       12/18/16   \n",
       "\n",
       "                     Delivery Date          Customer Location    Cost  \n",
       "Customer Id                                                            \n",
       "fffe3900350033003300      06/03/15     New Michelle, OH 50777 -283.29  \n",
       "fffe3800330031003900      03/05/17  New Michaelport, WY 12072 -159.96  \n",
       "fffe3600370035003100      03/08/15      Bowmanshire, WA 19241 -154.29  \n",
       "fffe350031003300          05/20/15       East Robyn, KY 86375 -161.16  \n",
       "fffe3900320038003400      12/14/16        Aprilside, PA 52793 -159.23  "
      ]
     },
     "execution_count": 36,
     "metadata": {},
     "output_type": "execute_result"
    }
   ],
   "source": [
    "train.info()\n",
    "train.head()"
   ]
  },
  {
   "cell_type": "code",
   "execution_count": 8,
   "metadata": {},
   "outputs": [
    {
     "data": {
      "text/html": [
       "<div>\n",
       "<style scoped>\n",
       "    .dataframe tbody tr th:only-of-type {\n",
       "        vertical-align: middle;\n",
       "    }\n",
       "\n",
       "    .dataframe tbody tr th {\n",
       "        vertical-align: top;\n",
       "    }\n",
       "\n",
       "    .dataframe thead th {\n",
       "        text-align: right;\n",
       "    }\n",
       "</style>\n",
       "<table border=\"1\" class=\"dataframe\">\n",
       "  <thead>\n",
       "    <tr style=\"text-align: right;\">\n",
       "      <th></th>\n",
       "      <th>Artist Reputation</th>\n",
       "      <th>Height</th>\n",
       "      <th>Width</th>\n",
       "      <th>Weight</th>\n",
       "      <th>Price Of Sculpture</th>\n",
       "      <th>Base Shipping Price</th>\n",
       "      <th>Cost</th>\n",
       "    </tr>\n",
       "  </thead>\n",
       "  <tbody>\n",
       "    <tr>\n",
       "      <th>count</th>\n",
       "      <td>5750.000000</td>\n",
       "      <td>6125.000000</td>\n",
       "      <td>5916.000000</td>\n",
       "      <td>5.913000e+03</td>\n",
       "      <td>6500.00000</td>\n",
       "      <td>6500.000000</td>\n",
       "      <td>6.500000e+03</td>\n",
       "    </tr>\n",
       "    <tr>\n",
       "      <th>mean</th>\n",
       "      <td>0.461850</td>\n",
       "      <td>21.766204</td>\n",
       "      <td>9.617647</td>\n",
       "      <td>4.006948e+05</td>\n",
       "      <td>1192.42009</td>\n",
       "      <td>37.407174</td>\n",
       "      <td>1.713920e+04</td>\n",
       "    </tr>\n",
       "    <tr>\n",
       "      <th>std</th>\n",
       "      <td>0.265781</td>\n",
       "      <td>11.968192</td>\n",
       "      <td>5.417000</td>\n",
       "      <td>2.678081e+06</td>\n",
       "      <td>8819.61675</td>\n",
       "      <td>26.873519</td>\n",
       "      <td>2.406579e+05</td>\n",
       "    </tr>\n",
       "    <tr>\n",
       "      <th>min</th>\n",
       "      <td>0.000000</td>\n",
       "      <td>3.000000</td>\n",
       "      <td>2.000000</td>\n",
       "      <td>3.000000e+00</td>\n",
       "      <td>3.00000</td>\n",
       "      <td>10.000000</td>\n",
       "      <td>-8.801727e+05</td>\n",
       "    </tr>\n",
       "    <tr>\n",
       "      <th>25%</th>\n",
       "      <td>0.240000</td>\n",
       "      <td>12.000000</td>\n",
       "      <td>6.000000</td>\n",
       "      <td>5.030000e+02</td>\n",
       "      <td>5.23000</td>\n",
       "      <td>16.700000</td>\n",
       "      <td>1.884400e+02</td>\n",
       "    </tr>\n",
       "    <tr>\n",
       "      <th>50%</th>\n",
       "      <td>0.450000</td>\n",
       "      <td>20.000000</td>\n",
       "      <td>8.000000</td>\n",
       "      <td>3.102000e+03</td>\n",
       "      <td>8.02500</td>\n",
       "      <td>23.505000</td>\n",
       "      <td>3.820650e+02</td>\n",
       "    </tr>\n",
       "    <tr>\n",
       "      <th>75%</th>\n",
       "      <td>0.680000</td>\n",
       "      <td>30.000000</td>\n",
       "      <td>12.000000</td>\n",
       "      <td>3.645600e+04</td>\n",
       "      <td>89.47000</td>\n",
       "      <td>57.905000</td>\n",
       "      <td>1.156115e+03</td>\n",
       "    </tr>\n",
       "    <tr>\n",
       "      <th>max</th>\n",
       "      <td>1.000000</td>\n",
       "      <td>73.000000</td>\n",
       "      <td>50.000000</td>\n",
       "      <td>1.179279e+08</td>\n",
       "      <td>382385.67000</td>\n",
       "      <td>99.980000</td>\n",
       "      <td>1.114343e+07</td>\n",
       "    </tr>\n",
       "  </tbody>\n",
       "</table>\n",
       "</div>"
      ],
      "text/plain": [
       "       Artist Reputation       Height        Width        Weight  \\\n",
       "count        5750.000000  6125.000000  5916.000000  5.913000e+03   \n",
       "mean            0.461850    21.766204     9.617647  4.006948e+05   \n",
       "std             0.265781    11.968192     5.417000  2.678081e+06   \n",
       "min             0.000000     3.000000     2.000000  3.000000e+00   \n",
       "25%             0.240000    12.000000     6.000000  5.030000e+02   \n",
       "50%             0.450000    20.000000     8.000000  3.102000e+03   \n",
       "75%             0.680000    30.000000    12.000000  3.645600e+04   \n",
       "max             1.000000    73.000000    50.000000  1.179279e+08   \n",
       "\n",
       "       Price Of Sculpture  Base Shipping Price          Cost  \n",
       "count          6500.00000          6500.000000  6.500000e+03  \n",
       "mean           1192.42009            37.407174  1.713920e+04  \n",
       "std            8819.61675            26.873519  2.406579e+05  \n",
       "min               3.00000            10.000000 -8.801727e+05  \n",
       "25%               5.23000            16.700000  1.884400e+02  \n",
       "50%               8.02500            23.505000  3.820650e+02  \n",
       "75%              89.47000            57.905000  1.156115e+03  \n",
       "max          382385.67000            99.980000  1.114343e+07  "
      ]
     },
     "execution_count": 8,
     "metadata": {},
     "output_type": "execute_result"
    }
   ],
   "source": [
    "train.describe()"
   ]
  },
  {
   "cell_type": "code",
   "execution_count": 11,
   "metadata": {},
   "outputs": [],
   "source": [
    "train['Artist Reputation'].fillna(0.46, inplace = True)\n",
    "test['Artist Reputation'].fillna(0.46, inplace = True)"
   ]
  },
  {
   "cell_type": "code",
   "execution_count": 18,
   "metadata": {},
   "outputs": [],
   "source": [
    "train['Height'].fillna(22.0, inplace = True)\n",
    "test['Height'].fillna(22.0, inplace = True)"
   ]
  },
  {
   "cell_type": "code",
   "execution_count": 22,
   "metadata": {},
   "outputs": [],
   "source": [
    "train['Width'].fillna(10.0, inplace = True)\n",
    "test['Width'].fillna(10.0, inplace = True)"
   ]
  },
  {
   "cell_type": "code",
   "execution_count": 24,
   "metadata": {},
   "outputs": [],
   "source": [
    "import random\n",
    "def fillMat(weight):\n",
    "    light = ['Clay', 'Aluminium', 'Wood']\n",
    "    med = ['Brass', 'Bronze']\n",
    "    heav = ['Stone', 'Marble']\n",
    "    if weight < 4000:\n",
    "        material = random.choice(light)\n",
    "    elif weight < 30000:\n",
    "        material = random.choice(med)\n",
    "    else:\n",
    "        material = random.choice(heav)\n",
    "\n",
    "    return material"
   ]
  },
  {
   "cell_type": "code",
   "execution_count": 25,
   "metadata": {},
   "outputs": [],
   "source": [
    "train['Material'].fillna(value = train['Weight'].apply(lambda x: fillMat(x)), inplace = True)"
   ]
  },
  {
   "cell_type": "code",
   "execution_count": 26,
   "metadata": {},
   "outputs": [],
   "source": [
    "test['Material'].fillna(value = test['Weight'].apply(lambda x: fillMat(x)), inplace = True)"
   ]
  },
  {
   "cell_type": "code",
   "execution_count": 28,
   "metadata": {},
   "outputs": [],
   "source": [
    "def fillWeight(material):\n",
    "    weight = 0\n",
    "    light = ['Clay', 'Aluminium', 'Wood']\n",
    "    med = ['Brass', 'Bronze']\n",
    "    heav = ['Stone', 'Marble']\n",
    "    if material in light:\n",
    "        weight = 1622\n",
    "    elif material in med:\n",
    "        weight = 21679\n",
    "    else:\n",
    "        weight = 1422981\n",
    "    return weight"
   ]
  },
  {
   "cell_type": "code",
   "execution_count": 29,
   "metadata": {},
   "outputs": [],
   "source": [
    "train['Weight'].fillna(value = train['Material'].apply(lambda x: fillWeight(x)), inplace = True)"
   ]
  },
  {
   "cell_type": "code",
   "execution_count": 30,
   "metadata": {},
   "outputs": [],
   "source": [
    "test['Weight'].fillna(value = test['Material'].apply(lambda x: fillWeight(x)), inplace = True)"
   ]
  },
  {
   "cell_type": "code",
   "execution_count": 32,
   "metadata": {},
   "outputs": [],
   "source": [
    "transport = ['Airways', 'Roadways', 'Waterways']\n",
    "train['Transport'].fillna(value = np.random.choice(transport, p = [0.35, 0.41, 0.24]), inplace = True)"
   ]
  },
  {
   "cell_type": "code",
   "execution_count": 33,
   "metadata": {},
   "outputs": [],
   "source": [
    "test['Transport'].fillna(value = np.random.choice(transport, p = [0.35, 0.41, 0.24]), inplace = True)"
   ]
  },
  {
   "cell_type": "code",
   "execution_count": 35,
   "metadata": {},
   "outputs": [],
   "source": [
    "train['Remote Location'].fillna(np.random.choice(['Yes', 'No'], p = [0.20, 0.80]), inplace = True)\n",
    "test['Remote Location'].fillna(np.random.choice(['Yes', 'No'], p = [0.20, 0.80]), inplace = True)"
   ]
  },
  {
   "cell_type": "markdown",
   "metadata": {},
   "source": [
    "Now we have no Null values, I'll take the absolute value of the cost now since we have many negative values there, then normalize it with a log transformation"
   ]
  },
  {
   "cell_type": "code",
   "execution_count": 39,
   "metadata": {},
   "outputs": [],
   "source": [
    "train['Cost'] = train['Cost'].apply(lambda x:abs(x))"
   ]
  },
  {
   "cell_type": "code",
   "execution_count": 43,
   "metadata": {},
   "outputs": [],
   "source": [
    "train['log_Cost'] = np.log(train['Cost'])"
   ]
  },
  {
   "cell_type": "code",
   "execution_count": 45,
   "metadata": {},
   "outputs": [],
   "source": [
    "train.drop(columns=['Artist Name', 'Scheduled Date', \n",
    "                    'Delivery Date', 'Customer Location'], inplace = True)"
   ]
  },
  {
   "cell_type": "code",
   "execution_count": 57,
   "metadata": {},
   "outputs": [],
   "source": [
    "test.drop(columns=['Artist Name', 'Scheduled Date', \n",
    "                    'Delivery Date', 'Customer Location'], inplace = True)"
   ]
  },
  {
   "cell_type": "code",
   "execution_count": 58,
   "metadata": {},
   "outputs": [],
   "source": [
    "from sklearn.preprocessing import LabelEncoder\n",
    "from sklearn.impute import SimpleImputer"
   ]
  },
  {
   "cell_type": "code",
   "execution_count": 59,
   "metadata": {},
   "outputs": [
    {
     "name": "stdout",
     "output_type": "stream",
     "text": [
      "Categorical Variables:\n",
      "['Material', 'International', 'Express Shipment', 'Installation Included', 'Transport', 'Fragile', 'Customer Information', 'Remote Location']\n"
     ]
    }
   ],
   "source": [
    "cat = (train.dtypes == 'object')\n",
    "ob_cols = list(cat[cat].index)\n",
    "print('Categorical Variables:')\n",
    "print(ob_cols)"
   ]
  },
  {
   "cell_type": "code",
   "execution_count": 60,
   "metadata": {},
   "outputs": [],
   "source": [
    "cat_train = train.copy()\n",
    "cat_test = test.copy()"
   ]
  },
  {
   "cell_type": "code",
   "execution_count": 61,
   "metadata": {},
   "outputs": [],
   "source": [
    "label_encoder = LabelEncoder()\n",
    "for col in ob_cols:\n",
    "    cat_train[col] = label_encoder.fit_transform(train[col])\n",
    "    cat_test[col] = label_encoder.fit_transform(test[col])"
   ]
  },
  {
   "cell_type": "code",
   "execution_count": 63,
   "metadata": {},
   "outputs": [
    {
     "data": {
      "text/html": [
       "<div>\n",
       "<style scoped>\n",
       "    .dataframe tbody tr th:only-of-type {\n",
       "        vertical-align: middle;\n",
       "    }\n",
       "\n",
       "    .dataframe tbody tr th {\n",
       "        vertical-align: top;\n",
       "    }\n",
       "\n",
       "    .dataframe thead th {\n",
       "        text-align: right;\n",
       "    }\n",
       "</style>\n",
       "<table border=\"1\" class=\"dataframe\">\n",
       "  <thead>\n",
       "    <tr style=\"text-align: right;\">\n",
       "      <th></th>\n",
       "      <th>Artist Reputation</th>\n",
       "      <th>Height</th>\n",
       "      <th>Width</th>\n",
       "      <th>Weight</th>\n",
       "      <th>Material</th>\n",
       "      <th>Price Of Sculpture</th>\n",
       "      <th>Base Shipping Price</th>\n",
       "      <th>International</th>\n",
       "      <th>Express Shipment</th>\n",
       "      <th>Installation Included</th>\n",
       "      <th>Transport</th>\n",
       "      <th>Fragile</th>\n",
       "      <th>Customer Information</th>\n",
       "      <th>Remote Location</th>\n",
       "      <th>Cost</th>\n",
       "      <th>log_Cost</th>\n",
       "    </tr>\n",
       "    <tr>\n",
       "      <th>Customer Id</th>\n",
       "      <th></th>\n",
       "      <th></th>\n",
       "      <th></th>\n",
       "      <th></th>\n",
       "      <th></th>\n",
       "      <th></th>\n",
       "      <th></th>\n",
       "      <th></th>\n",
       "      <th></th>\n",
       "      <th></th>\n",
       "      <th></th>\n",
       "      <th></th>\n",
       "      <th></th>\n",
       "      <th></th>\n",
       "      <th></th>\n",
       "      <th></th>\n",
       "    </tr>\n",
       "  </thead>\n",
       "  <tbody>\n",
       "    <tr>\n",
       "      <th>fffe3900350033003300</th>\n",
       "      <td>0.26</td>\n",
       "      <td>17.0</td>\n",
       "      <td>6.0</td>\n",
       "      <td>4128.0</td>\n",
       "      <td>1</td>\n",
       "      <td>13.91</td>\n",
       "      <td>16.27</td>\n",
       "      <td>1</td>\n",
       "      <td>1</td>\n",
       "      <td>0</td>\n",
       "      <td>0</td>\n",
       "      <td>0</td>\n",
       "      <td>1</td>\n",
       "      <td>0</td>\n",
       "      <td>283.29</td>\n",
       "      <td>5.646471</td>\n",
       "    </tr>\n",
       "    <tr>\n",
       "      <th>fffe3800330031003900</th>\n",
       "      <td>0.28</td>\n",
       "      <td>3.0</td>\n",
       "      <td>3.0</td>\n",
       "      <td>61.0</td>\n",
       "      <td>1</td>\n",
       "      <td>6.83</td>\n",
       "      <td>15.00</td>\n",
       "      <td>0</td>\n",
       "      <td>0</td>\n",
       "      <td>0</td>\n",
       "      <td>1</td>\n",
       "      <td>0</td>\n",
       "      <td>1</td>\n",
       "      <td>0</td>\n",
       "      <td>159.96</td>\n",
       "      <td>5.074924</td>\n",
       "    </tr>\n",
       "    <tr>\n",
       "      <th>fffe3600370035003100</th>\n",
       "      <td>0.07</td>\n",
       "      <td>8.0</td>\n",
       "      <td>5.0</td>\n",
       "      <td>237.0</td>\n",
       "      <td>3</td>\n",
       "      <td>4.96</td>\n",
       "      <td>21.18</td>\n",
       "      <td>0</td>\n",
       "      <td>0</td>\n",
       "      <td>0</td>\n",
       "      <td>1</td>\n",
       "      <td>1</td>\n",
       "      <td>1</td>\n",
       "      <td>1</td>\n",
       "      <td>154.29</td>\n",
       "      <td>5.038834</td>\n",
       "    </tr>\n",
       "    <tr>\n",
       "      <th>fffe350031003300</th>\n",
       "      <td>0.12</td>\n",
       "      <td>9.0</td>\n",
       "      <td>10.0</td>\n",
       "      <td>1622.0</td>\n",
       "      <td>0</td>\n",
       "      <td>5.81</td>\n",
       "      <td>16.31</td>\n",
       "      <td>0</td>\n",
       "      <td>0</td>\n",
       "      <td>0</td>\n",
       "      <td>1</td>\n",
       "      <td>0</td>\n",
       "      <td>0</td>\n",
       "      <td>1</td>\n",
       "      <td>161.16</td>\n",
       "      <td>5.082398</td>\n",
       "    </tr>\n",
       "    <tr>\n",
       "      <th>fffe3900320038003400</th>\n",
       "      <td>0.15</td>\n",
       "      <td>17.0</td>\n",
       "      <td>6.0</td>\n",
       "      <td>324.0</td>\n",
       "      <td>0</td>\n",
       "      <td>3.18</td>\n",
       "      <td>11.94</td>\n",
       "      <td>1</td>\n",
       "      <td>1</td>\n",
       "      <td>1</td>\n",
       "      <td>0</td>\n",
       "      <td>0</td>\n",
       "      <td>1</td>\n",
       "      <td>0</td>\n",
       "      <td>159.23</td>\n",
       "      <td>5.070350</td>\n",
       "    </tr>\n",
       "    <tr>\n",
       "      <th>...</th>\n",
       "      <td>...</td>\n",
       "      <td>...</td>\n",
       "      <td>...</td>\n",
       "      <td>...</td>\n",
       "      <td>...</td>\n",
       "      <td>...</td>\n",
       "      <td>...</td>\n",
       "      <td>...</td>\n",
       "      <td>...</td>\n",
       "      <td>...</td>\n",
       "      <td>...</td>\n",
       "      <td>...</td>\n",
       "      <td>...</td>\n",
       "      <td>...</td>\n",
       "      <td>...</td>\n",
       "      <td>...</td>\n",
       "    </tr>\n",
       "    <tr>\n",
       "      <th>fffe3800370037003300</th>\n",
       "      <td>0.37</td>\n",
       "      <td>37.0</td>\n",
       "      <td>10.0</td>\n",
       "      <td>16551.0</td>\n",
       "      <td>1</td>\n",
       "      <td>28.28</td>\n",
       "      <td>38.46</td>\n",
       "      <td>1</td>\n",
       "      <td>1</td>\n",
       "      <td>0</td>\n",
       "      <td>0</td>\n",
       "      <td>0</td>\n",
       "      <td>0</td>\n",
       "      <td>1</td>\n",
       "      <td>872.43</td>\n",
       "      <td>6.771282</td>\n",
       "    </tr>\n",
       "    <tr>\n",
       "      <th>fffe310036003400</th>\n",
       "      <td>0.67</td>\n",
       "      <td>15.0</td>\n",
       "      <td>10.0</td>\n",
       "      <td>18981.0</td>\n",
       "      <td>1</td>\n",
       "      <td>67.18</td>\n",
       "      <td>27.72</td>\n",
       "      <td>0</td>\n",
       "      <td>0</td>\n",
       "      <td>0</td>\n",
       "      <td>1</td>\n",
       "      <td>0</td>\n",
       "      <td>1</td>\n",
       "      <td>0</td>\n",
       "      <td>1347.02</td>\n",
       "      <td>7.205650</td>\n",
       "    </tr>\n",
       "    <tr>\n",
       "      <th>fffe3600300031003300</th>\n",
       "      <td>0.68</td>\n",
       "      <td>19.0</td>\n",
       "      <td>8.0</td>\n",
       "      <td>587.0</td>\n",
       "      <td>3</td>\n",
       "      <td>6.92</td>\n",
       "      <td>10.38</td>\n",
       "      <td>1</td>\n",
       "      <td>0</td>\n",
       "      <td>0</td>\n",
       "      <td>1</td>\n",
       "      <td>1</td>\n",
       "      <td>0</td>\n",
       "      <td>0</td>\n",
       "      <td>354.55</td>\n",
       "      <td>5.870849</td>\n",
       "    </tr>\n",
       "    <tr>\n",
       "      <th>fffe3600350035003900</th>\n",
       "      <td>0.02</td>\n",
       "      <td>33.0</td>\n",
       "      <td>9.0</td>\n",
       "      <td>1269377.0</td>\n",
       "      <td>5</td>\n",
       "      <td>2929.13</td>\n",
       "      <td>69.76</td>\n",
       "      <td>0</td>\n",
       "      <td>1</td>\n",
       "      <td>0</td>\n",
       "      <td>1</td>\n",
       "      <td>0</td>\n",
       "      <td>1</td>\n",
       "      <td>1</td>\n",
       "      <td>5037.50</td>\n",
       "      <td>8.524665</td>\n",
       "    </tr>\n",
       "    <tr>\n",
       "      <th>fffe3700310031003600</th>\n",
       "      <td>0.18</td>\n",
       "      <td>30.0</td>\n",
       "      <td>13.0</td>\n",
       "      <td>34729.0</td>\n",
       "      <td>1</td>\n",
       "      <td>46.63</td>\n",
       "      <td>78.25</td>\n",
       "      <td>0</td>\n",
       "      <td>1</td>\n",
       "      <td>0</td>\n",
       "      <td>0</td>\n",
       "      <td>0</td>\n",
       "      <td>1</td>\n",
       "      <td>0</td>\n",
       "      <td>722.47</td>\n",
       "      <td>6.582676</td>\n",
       "    </tr>\n",
       "  </tbody>\n",
       "</table>\n",
       "<p>6500 rows × 16 columns</p>\n",
       "</div>"
      ],
      "text/plain": [
       "                      Artist Reputation  Height  Width     Weight  Material  \\\n",
       "Customer Id                                                                   \n",
       "fffe3900350033003300               0.26    17.0    6.0     4128.0         1   \n",
       "fffe3800330031003900               0.28     3.0    3.0       61.0         1   \n",
       "fffe3600370035003100               0.07     8.0    5.0      237.0         3   \n",
       "fffe350031003300                   0.12     9.0   10.0     1622.0         0   \n",
       "fffe3900320038003400               0.15    17.0    6.0      324.0         0   \n",
       "...                                 ...     ...    ...        ...       ...   \n",
       "fffe3800370037003300               0.37    37.0   10.0    16551.0         1   \n",
       "fffe310036003400                   0.67    15.0   10.0    18981.0         1   \n",
       "fffe3600300031003300               0.68    19.0    8.0      587.0         3   \n",
       "fffe3600350035003900               0.02    33.0    9.0  1269377.0         5   \n",
       "fffe3700310031003600               0.18    30.0   13.0    34729.0         1   \n",
       "\n",
       "                      Price Of Sculpture  Base Shipping Price  International  \\\n",
       "Customer Id                                                                    \n",
       "fffe3900350033003300               13.91                16.27              1   \n",
       "fffe3800330031003900                6.83                15.00              0   \n",
       "fffe3600370035003100                4.96                21.18              0   \n",
       "fffe350031003300                    5.81                16.31              0   \n",
       "fffe3900320038003400                3.18                11.94              1   \n",
       "...                                  ...                  ...            ...   \n",
       "fffe3800370037003300               28.28                38.46              1   \n",
       "fffe310036003400                   67.18                27.72              0   \n",
       "fffe3600300031003300                6.92                10.38              1   \n",
       "fffe3600350035003900             2929.13                69.76              0   \n",
       "fffe3700310031003600               46.63                78.25              0   \n",
       "\n",
       "                      Express Shipment  Installation Included  Transport  \\\n",
       "Customer Id                                                                \n",
       "fffe3900350033003300                 1                      0          0   \n",
       "fffe3800330031003900                 0                      0          1   \n",
       "fffe3600370035003100                 0                      0          1   \n",
       "fffe350031003300                     0                      0          1   \n",
       "fffe3900320038003400                 1                      1          0   \n",
       "...                                ...                    ...        ...   \n",
       "fffe3800370037003300                 1                      0          0   \n",
       "fffe310036003400                     0                      0          1   \n",
       "fffe3600300031003300                 0                      0          1   \n",
       "fffe3600350035003900                 1                      0          1   \n",
       "fffe3700310031003600                 1                      0          0   \n",
       "\n",
       "                      Fragile  Customer Information  Remote Location     Cost  \\\n",
       "Customer Id                                                                     \n",
       "fffe3900350033003300        0                     1                0   283.29   \n",
       "fffe3800330031003900        0                     1                0   159.96   \n",
       "fffe3600370035003100        1                     1                1   154.29   \n",
       "fffe350031003300            0                     0                1   161.16   \n",
       "fffe3900320038003400        0                     1                0   159.23   \n",
       "...                       ...                   ...              ...      ...   \n",
       "fffe3800370037003300        0                     0                1   872.43   \n",
       "fffe310036003400            0                     1                0  1347.02   \n",
       "fffe3600300031003300        1                     0                0   354.55   \n",
       "fffe3600350035003900        0                     1                1  5037.50   \n",
       "fffe3700310031003600        0                     1                0   722.47   \n",
       "\n",
       "                      log_Cost  \n",
       "Customer Id                     \n",
       "fffe3900350033003300  5.646471  \n",
       "fffe3800330031003900  5.074924  \n",
       "fffe3600370035003100  5.038834  \n",
       "fffe350031003300      5.082398  \n",
       "fffe3900320038003400  5.070350  \n",
       "...                        ...  \n",
       "fffe3800370037003300  6.771282  \n",
       "fffe310036003400      7.205650  \n",
       "fffe3600300031003300  5.870849  \n",
       "fffe3600350035003900  8.524665  \n",
       "fffe3700310031003600  6.582676  \n",
       "\n",
       "[6500 rows x 16 columns]"
      ]
     },
     "execution_count": 63,
     "metadata": {},
     "output_type": "execute_result"
    }
   ],
   "source": [
    "cat_train"
   ]
  },
  {
   "cell_type": "code",
   "execution_count": 67,
   "metadata": {},
   "outputs": [],
   "source": [
    "X = cat_train.drop(columns=['Cost', 'log_Cost'])\n",
    "y = cat_train['log_Cost']\n",
    "X_train, X_test, y_train, y_test = train_test_split(X, y, test_size=0.33, random_state=42)"
   ]
  },
  {
   "cell_type": "code",
   "execution_count": 66,
   "metadata": {},
   "outputs": [],
   "source": [
    "from sklearn.ensemble import RandomForestRegressor\n",
    "rf = RandomForestRegressor(n_estimators=100, random_state=42)"
   ]
  },
  {
   "cell_type": "code",
   "execution_count": 68,
   "metadata": {},
   "outputs": [
    {
     "data": {
      "text/plain": [
       "RandomForestRegressor(random_state=42)"
      ]
     },
     "execution_count": 68,
     "metadata": {},
     "output_type": "execute_result"
    }
   ],
   "source": [
    "rf.fit(X_train, y_train)"
   ]
  },
  {
   "cell_type": "code",
   "execution_count": 69,
   "metadata": {},
   "outputs": [],
   "source": [
    "pred = rf.predict(X_test)"
   ]
  },
  {
   "cell_type": "code",
   "execution_count": 71,
   "metadata": {},
   "outputs": [
    {
     "name": "stdout",
     "output_type": "stream",
     "text": [
      "MAE: 0.20200338771466037\n",
      "MSE: 0.10659253048213403\n",
      "RMSE: 0.3264851152535656\n"
     ]
    }
   ],
   "source": [
    "print('MAE:', metrics.mean_absolute_error(y_test, pred))\n",
    "print('MSE:', metrics.mean_squared_error(y_test, pred))\n",
    "print('RMSE:', np.sqrt(metrics.mean_squared_error(y_test, pred)))"
   ]
  },
  {
   "cell_type": "code",
   "execution_count": 72,
   "metadata": {},
   "outputs": [
    {
     "data": {
      "text/plain": [
       "Text(0, 0.5, 'Predicted Y')"
      ]
     },
     "execution_count": 72,
     "metadata": {},
     "output_type": "execute_result"
    },
    {
     "data": {
      "image/png": "[encoded data removed]",
      "text/plain": [
       "<Figure size 432x288 with 1 Axes>"
      ]
     },
     "metadata": {
      "needs_background": "light"
     },
     "output_type": "display_data"
    }
   ],
   "source": [
    "plt.scatter(y_test,pred)\n",
    "plt.xlabel('Y Test')\n",
    "plt.ylabel('Predicted Y')"
   ]
  },
  {
   "cell_type": "code",
   "execution_count": 91,
   "metadata": {},
   "outputs": [],
   "source": [
    "from sklearn.model_selection import RandomizedSearchCV"
   ]
  },
  {
   "cell_type": "code",
   "execution_count": 92,
   "metadata": {},
   "outputs": [],
   "source": [
    "dparam = [{'n_estimators' : [50,100,250,500],\n",
    "          'max_depth' : [10,50,100],\n",
    "          'bootstrap': [True, False]}]"
   ]
  },
  {
   "cell_type": "code",
   "execution_count": 93,
   "metadata": {},
   "outputs": [
    {
     "data": {
      "text/plain": [
       "RandomizedSearchCV(cv=10, estimator=RandomForestRegressor(random_state=42),\n",
       "                   param_distributions=[{'bootstrap': [True, False],\n",
       "                                         'max_depth': [10, 50, 100],\n",
       "                                         'n_estimators': [50, 100, 250, 500]}])"
      ]
     },
     "execution_count": 93,
     "metadata": {},
     "output_type": "execute_result"
    }
   ],
   "source": [
    "rsf = RandomizedSearchCV(rf, dparam, cv = 10)\n",
    "rsf.fit(X_train, y_train)"
   ]
  },
  {
   "cell_type": "code",
   "execution_count": 94,
   "metadata": {},
   "outputs": [],
   "source": [
    "best_rf = rsf.best_estimator_"
   ]
  },
  {
   "cell_type": "code",
   "execution_count": 95,
   "metadata": {},
   "outputs": [
    {
     "data": {
      "text/plain": [
       "RandomForestRegressor(max_depth=100, n_estimators=250, random_state=42)"
      ]
     },
     "execution_count": 95,
     "metadata": {},
     "output_type": "execute_result"
    }
   ],
   "source": [
    "best_rf"
   ]
  },
  {
   "cell_type": "code",
   "execution_count": 96,
   "metadata": {},
   "outputs": [
    {
     "data": {
      "text/plain": [
       "RandomForestRegressor(max_depth=100, n_estimators=250, random_state=42)"
      ]
     },
     "execution_count": 96,
     "metadata": {},
     "output_type": "execute_result"
    }
   ],
   "source": [
    "best_rf.fit(X_train, y_train)"
   ]
  },
  {
   "cell_type": "code",
   "execution_count": 97,
   "metadata": {},
   "outputs": [],
   "source": [
    "best_pred = best_rf.predict(X_test)"
   ]
  },
  {
   "cell_type": "code",
   "execution_count": 98,
   "metadata": {},
   "outputs": [
    {
     "data": {
      "text/plain": [
       "array([6.17981209, 5.18146668, 6.17785635, ..., 8.45908471, 7.33326968,\n",
       "       5.25042474])"
      ]
     },
     "execution_count": 98,
     "metadata": {},
     "output_type": "execute_result"
    }
   ],
   "source": [
    "best_pred"
   ]
  },
  {
   "cell_type": "code",
   "execution_count": 101,
   "metadata": {},
   "outputs": [
    {
     "data": {
      "text/plain": [
       "99.85448109210935"
      ]
     },
     "execution_count": 101,
     "metadata": {},
     "output_type": "execute_result"
    }
   ],
   "source": [
    "score = 100*max(0, 1-metrics.mean_squared_log_error(y_test, best_pred))\n",
    "score"
   ]
  },
  {
   "cell_type": "code",
   "execution_count": 102,
   "metadata": {},
   "outputs": [],
   "source": [
    "best_t_pred = best_rf.predict(cat_test)"
   ]
  },
  {
   "cell_type": "code",
   "execution_count": 103,
   "metadata": {},
   "outputs": [],
   "source": [
    "test['Cost'] = np.expm1(best_t_pred)"
   ]
  },
  {
   "cell_type": "code",
   "execution_count": 104,
   "metadata": {},
   "outputs": [],
   "source": [
    "submission = test['Cost']"
   ]
  },
  {
   "cell_type": "code",
   "execution_count": 105,
   "metadata": {},
   "outputs": [],
   "source": [
    "submission.to_csv('submission.csv')"
   ]
  }
 ],
 "metadata": {
  "kernelspec": {
   "display_name": "Python 3",
   "language": "python",
   "name": "python3"
  },
  "language_info": {
   "codemirror_mode": {
    "name": "ipython",
    "version": 3
   },
   "file_extension": ".py",
   "mimetype": "text/x-python",
   "name": "python",
   "nbconvert_exporter": "python",
   "pygments_lexer": "ipython3",
   "version": "3.8.5"
  }
 },
 "nbformat": 4,
 "nbformat_minor": 4
}
